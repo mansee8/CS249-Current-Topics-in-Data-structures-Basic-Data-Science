{
 "cells": [
  {
   "cell_type": "markdown",
   "metadata": {},
   "source": [
    "# HW4 Problem:  Classifying Music Genres\n",
    "\n",
    "This problem asks you to classify music into genres that include:  Blues, Classical, Jazz, Metal, Pop, Rock.\n",
    "\n",
    "Column 192 in the dataset is the \"GENRE\" attribute used for classification.\n",
    "The 191 columns before this are numeric features of music clips.\n",
    "<blockquote>\n",
    "A database of 60 music performers has been prepared for the competition. The material is divided into six categories: classical music, jazz, blues, pop, rock and heavy metal. For each of the performers 15-20 music pieces have been collected. All music pieces are partitioned into 20 segments and parameterized. The descriptors used in parametrization also those formulated within the MPEG-7 standard, are only listed here since they have already been thoroughly reviewed and explained in many studies.  <br /><br />The feature vector consists of 191 parameters, the first 127 parameters are based on the MPEG-7 standard, the remaining ones are cepstral coefficients descriptors and time-related dedicated parameters:<br /><br />a) parameter 1: Temporal Centroid, <br />b) parameter 2: Spectral Centroid average value, <br />c) parameter 3: Spectral Centroid variance, <br />d) parameters 4-37: Audio Spectrum Envelope (ASE)  average values in 34 frequency bands<br />e) parameter 38: ASE average value (averaged for all frequency bands)<br />f) parameters 39-72: ASE variance values in 34 frequency bands<br />g) parameter 73: averaged ASE variance parameters<br />h) parameters 74,75: Audio Spectrum Centroid -- average and variance values<br />i) parameters 76,77: Audio Spectrum Spread -- average and variance values<br />j) parameters 78-101: Spectral Flatness Measure (SFM) average values for 24 frequency bands<br />k) parameter 102: SFM average value (averaged for all frequency bands)<br />l) parameters 103-126: Spectral Flatness Measure (SFM) variance values for 24 frequency bands<br />m) parameter 127: averaged SFM variance parameters<br />n) parameters 128-147: 20 first mel cepstral coefficients average values <br />o) parameters 148-167: the same as 128-147<br />p) parameters 168-191: dedicated parameters in time domain based of the analysis of the distribution of the envelope in relation to the rms value.<br />\n",
    "</blockquote>"
   ]
  },
  {
   "cell_type": "markdown",
   "metadata": {},
   "source": [
    "The results of a contest for building classifiers for this dataset are reported in:\n",
    "<blockquote>\n",
    "http://duch.mimuw.edu.pl/~mwojnars/papers/ismis-2011-contest.pdf\n",
    "</blockquote>\n",
    "This paper offers some ideas about models to consider."
   ]
  },
  {
   "cell_type": "markdown",
   "metadata": {
    "collapsed": true
   },
   "source": [
    "#  The Goal\n",
    "\n",
    "In this assignment you are to generate the genre predictions you can for a set of test data:\n",
    "<ul><li>\n",
    "Given the file <tt>MusicGenres.csv</tt>, develop a classifier that is as accurate as possible.\n",
    "</li><li>\n",
    "Use your classifier to predict genre classifications for each row of data in <tt>MusicFeatures.csv</tt>.\n",
    "</li><li>\n",
    "Put your predictions in a .csv file called  <tt>HW4_predictions.csv</tt> and upload it to CCLE.\n",
    "</li></ul>\n",
    "\n",
    "## Step 1: download your data, using your UID\n",
    "\n",
    "<blockquote>\n",
    "\n",
    "Download the music data at:\n",
    "<br/>\n",
    "http://datamining.cs.ucla.edu/cs249/hw4/music/___PUT_YOUR_UID_HERE___.zip\n",
    "\n",
    "<br/>\n",
    "<br/>\n",
    "<i>For example, if your UID is  123456789, download the file</i>\n",
    "    http://datamining.cs.ucla.edu/cs249/hw4/music/123456789.zip\n",
    "    \n",
    "</blockquote>\n",
    "    \n",
    "This zip file has two csv data files:  a training set and a test set.\n",
    "\n",
    "## Step 2: construct a model from <tt>training_set.csv</tt>\n",
    "\n",
    "Using the <tt>training_set.csv</tt> data, construct a classifier.\n",
    "\n",
    "<br/>\n",
    "<b>YOU CAN USE ANY ENVIRONMENT YOU LIKE TO BUILD A CLASSIFIER.</b>\n",
    "Please construct the most accurate models you can.\n",
    "\n",
    "<hr style=\"border-width:20px;\">\n",
    "\n",
    "## Step 3: generate predictions from <tt>test_set.csv</tt>\n",
    "    \n",
    "The rows of file <tt>test_set.csv</tt> have input features for a number of music clips.\n",
    "Using your classifer, produce class predictions for each of them.\n",
    "\n",
    "<br/>\n",
    "Put one predicted class name per line in a CSV file <tt>HW4_Music_Predictions.csv</tt>.\n",
    "This file should also have the header line \"<tt>GENRE</tt>\".\n",
    "\n",
    "<br/>\n",
    "<i>Your score on this problem will be the accuracy of these predictions.</i>\n",
    "<br/>\n",
    "\n",
    "<hr style=\"border-width:20px;\">\n",
    "\n",
    "## Step 4: upload <tt>HW4_Music_Predictions.csv</tt> and your notebook to CCLE\n",
    "\n",
    "Finally, go to CCLE and upload:\n",
    "<ul><li>\n",
    "your output CSV file <tt>HW4_Music_Predictions.csv</tt>\n",
    "</li><li>\n",
    "your notebook file <tt>HW4_Music_Genres.ipynb</tt>\n",
    "</li></ul>\n",
    "\n",
    "We are not planning to run any of the uploaded notebooks.\n",
    "However, your notebook should have the commands you used in developing your models ---\n",
    "in order to show your work.\n",
    "As announced, all assignment grading in this course will be automated,\n",
    "and the notebook is needed in order to check results of the grading program."
   ]
  },
  {
   "cell_type": "markdown",
   "metadata": {
    "collapsed": true
   },
   "source": [
    "# Solution : Music Genre"
   ]
  },
  {
   "cell_type": "markdown",
   "metadata": {},
   "source": [
    "## Load all the libraries"
   ]
  },
  {
   "cell_type": "code",
   "execution_count": 17,
   "metadata": {
    "collapsed": false
   },
   "outputs": [],
   "source": [
    "library(data.table)\n",
    "library(caret)\n",
    "library(kernlab)\n",
    "library(gbm)\n",
    "library(nnet)\n",
    "library(randomForest)\n",
    "library(class)\n",
    "library(e1071)\n",
    "library(doMC)\n",
    "registerDoMC(cores=6) # parallel processing"
   ]
  },
  {
   "cell_type": "markdown",
   "metadata": {},
   "source": [
    "## Load all the features "
   ]
  },
  {
   "cell_type": "code",
   "execution_count": 18,
   "metadata": {
    "collapsed": true
   },
   "outputs": [],
   "source": [
    "options(warn=-1)\n",
    "\n",
    "main.training.set = fread(\"HW4_music_data/training_set.csv\", data.table = TRUE)\n",
    "main.testing.set = fread(\"HW4_music_data/test_set.csv\", data.table = TRUE)"
   ]
  },
  {
   "cell_type": "markdown",
   "metadata": {},
   "source": [
    "## Split Data for Training Data and Class Label"
   ]
  },
  {
   "cell_type": "code",
   "execution_count": 19,
   "metadata": {
    "collapsed": true
   },
   "outputs": [],
   "source": [
    "main.training.set = main.training.set[sample(nrow(main.training.set)),] # shuffle data\n",
    "\n",
    "main.training.data = main.training.set\n",
    "main.training.data$GENRE = NULL"
   ]
  },
  {
   "cell_type": "markdown",
   "metadata": {},
   "source": [
    "## Feature Selection - Remove Highly Correlated Features "
   ]
  },
  {
   "cell_type": "code",
   "execution_count": 9,
   "metadata": {
    "collapsed": true
   },
   "outputs": [],
   "source": [
    "# correlationMatrix = cor(main.training.data)\n",
    "# highlyCorrelated = findCorrelation(correlationMatrix, cutoff=0.75)\n",
    "\n",
    "# main.training.set = subset(main.training.set, select = colnames(main.training.set)[-highlyCorrelated])\n",
    "# main.testing.set = subset(main.testing.set, select = colnames(main.testing.set)[-highlyCorrelated])"
   ]
  },
  {
   "cell_type": "markdown",
   "metadata": {},
   "source": [
    "## Split into Training & Testing Model"
   ]
  },
  {
   "cell_type": "code",
   "execution_count": 20,
   "metadata": {
    "collapsed": false
   },
   "outputs": [
    {
     "name": "stdout",
     "output_type": "stream",
     "text": [
      "[1] 7872  192\n",
      "[1] 3373  192\n"
     ]
    }
   ],
   "source": [
    "split.idx = createDataPartition(main.training.set$GENRE, p = .7,\n",
    "                                list = FALSE,\n",
    "                                times = 1)\n",
    "\n",
    "\n",
    "training.set = main.training.set[split.idx, ]\n",
    "testing.set = main.training.set[-split.idx, ]\n",
    "\n",
    "print(dim(training.set))\n",
    "print(dim(testing.set))\n",
    "\n",
    "training.data = training.set\n",
    "training.data$GENRE = NULL\n",
    "\n",
    "testing.data= testing.set\n",
    "testing.data$GENRE = NULL"
   ]
  },
  {
   "cell_type": "markdown",
   "metadata": {},
   "source": [
    "## Normalize Data"
   ]
  },
  {
   "cell_type": "code",
   "execution_count": 21,
   "metadata": {
    "collapsed": true
   },
   "outputs": [],
   "source": [
    "procValues = preProcess(main.training.data, method = c(\"center\", \"scale\"))\n",
    "\n",
    "normalize.main.training.data = predict(procValues, main.training.data)\n",
    "normalize.main.testing.set = predict(procValues, main.testing.set)\n",
    "\n",
    "normalize.main.training.set = data.frame(cbind(normalize.main.training.data, main.training.set$GENRE))\n",
    "colnames(normalize.main.training.set) = c(colnames(normalize.main.training.data), \"GENRE\")\n",
    "\n",
    "\n",
    "procValues = preProcess(training.data, method = c(\"center\", \"scale\"))\n",
    "normalize.training.data = predict(procValues, training.data)\n",
    "normalize.testing.data = predict(procValues, testing.data)\n",
    "\n",
    "normalize.training.set = data.frame(cbind(normalize.training.data, training.set$GENRE))\n",
    "colnames(normalize.training.set) = c(colnames(normalize.training.data), \"GENRE\")\n",
    "normalize.testing.set =  data.frame(cbind(normalize.testing.data, testing.set$GENRE))\n",
    "colnames(normalize.testing.set) = c(colnames(normalize.testing.data), \"GENRE\")\n",
    "\n",
    "control = trainControl(method=\"repeatedcv\", number=10, repeats=3)"
   ]
  },
  {
   "cell_type": "markdown",
   "metadata": {},
   "source": [
    "## Accuracy Function"
   ]
  },
  {
   "cell_type": "code",
   "execution_count": 22,
   "metadata": {
    "collapsed": true
   },
   "outputs": [],
   "source": [
    "calc.accuracy = function(predicted, actual){\n",
    "  return(length(which(predicted == actual)) / length(actual))\n",
    "}"
   ]
  },
  {
   "cell_type": "markdown",
   "metadata": {},
   "source": [
    "## Model Testing"
   ]
  },
  {
   "cell_type": "markdown",
   "metadata": {},
   "source": [
    "### Multinomial Logistic Regression"
   ]
  },
  {
   "cell_type": "code",
   "execution_count": 23,
   "metadata": {
    "collapsed": false
   },
   "outputs": [
    {
     "name": "stdout",
     "output_type": "stream",
     "text": [
      "# weights:  193 (192 variable)\n",
      "initial  value 5456.454605 \n",
      "iter  10 value 2981.753545\n",
      "iter  20 value 1799.687223\n",
      "iter  30 value 1332.898608\n",
      "iter  40 value 1171.515439\n",
      "iter  50 value 1113.047086\n",
      "iter  60 value 1112.520628\n",
      "final  value 1112.520504 \n",
      "converged\n",
      "# weights:  193 (192 variable)\n",
      "initial  value 5456.454605 \n",
      "iter  10 value 1826.749107\n",
      "iter  20 value 1570.530788\n",
      "iter  30 value 1396.695954\n",
      "iter  40 value 1187.585073\n",
      "iter  50 value 1058.893249\n",
      "iter  60 value 945.098932\n",
      "iter  70 value 908.767225\n",
      "iter  80 value 895.603720\n",
      "iter  90 value 886.275796\n",
      "iter 100 value 880.201454\n",
      "final  value 880.201454 \n",
      "stopped after 100 iterations\n",
      "\n",
      "Multinomial Logistic Regression \n",
      "Without Normalize  0.9454492 \n",
      "With Normalize  0.9531574 \n"
     ]
    }
   ],
   "source": [
    "nnet.fit = multinom(GENRE ~. , data = training.set, MaxNWts = 10000, trControl=control)\n",
    "nnet.fit.n = multinom(GENRE ~. , data = normalize.training.set, MaxNWts = 10000, trControl=control)\n",
    "\n",
    "predicted.genre.softmax = predict(nnet.fit, newdata = testing.set)\n",
    "predicted.genre.softmax.n = predict(nnet.fit.n, newdata = normalize.testing.set)\n",
    "\n",
    "cat(\"\\nMultinomial Logistic Regression Accuracy\\n\")\n",
    "cat(\"Without Normalize \", calc.accuracy(predicted.genre.softmax, testing.set$GENRE), \"\\n\")\n",
    "cat(\"With Normalize \", calc.accuracy(predicted.genre.softmax.n, testing.set$GENRE), \"\\n\")"
   ]
  },
  {
   "cell_type": "markdown",
   "metadata": {},
   "source": [
    "### Lasso Logistic Regression "
   ]
  },
  {
   "cell_type": "code",
   "execution_count": 24,
   "metadata": {
    "collapsed": false
   },
   "outputs": [
    {
     "name": "stdout",
     "output_type": "stream",
     "text": [
      "\n",
      "Lasso Logistic Regression \n",
      "Without Normalize  0.9060184 \n",
      "With Normalize  0.9060184 \n"
     ]
    }
   ],
   "source": [
    "glmnet.fitted.model = glmnet(x = as.matrix(training.data),y = training.set$GENRE,\n",
    "                             family=\"multinomial\", lambda=0.04)\n",
    "glmnet.fitted.model.n = glmnet(x = as.matrix(normalize.training.data),y = training.set$GENRE,\n",
    "                               family=\"multinomial\", lambda=0.04)\n",
    "\n",
    "predicted.genre.lasso = predict(glmnet.fitted.model, newx=as.matrix(testing.data), type=\"class\")\n",
    "predicted.genre.lasso.n = predict(glmnet.fitted.model.n, newx=as.matrix(normalize.testing.data), type=\"class\")\n",
    "\n",
    "cat(\"\\nLasso Logistic Regression Accuracy\\n\")\n",
    "cat(\"Without Normalize \", calc.accuracy(predicted.genre.lasso, testing.set$GENRE), \"\\n\")\n",
    "cat(\"With Normalize \", calc.accuracy(predicted.genre.lasso.n, testing.set$GENRE), \"\\n\")"
   ]
  },
  {
   "cell_type": "markdown",
   "metadata": {},
   "source": [
    "### Support Vector Machine"
   ]
  },
  {
   "cell_type": "code",
   "execution_count": 25,
   "metadata": {
    "collapsed": false
   },
   "outputs": [
    {
     "name": "stdout",
     "output_type": "stream",
     "text": [
      "Support Vector Machine \n",
      "Without Normalize  0.973021 \n",
      "With Normalize  0.973021 \n"
     ]
    }
   ],
   "source": [
    "svm.model = svm(factor(GENRE) ~ ., data = training.set, cv.folds=5, trControl=control)\n",
    "svm.model.n = svm(factor(GENRE) ~ ., data = normalize.training.set, cv.folds=5, trControl=control)\n",
    "\n",
    "predicted.genre.svm.n = predict(svm.model.n, normalize.testing.set)\n",
    "predicted.genre.svm = predict(svm.model, testing.data)\n",
    "\n",
    "cat(\"\\nSupport Vector Machine Accuracy\\n\")\n",
    "cat(\"Without Normalize \", calc.accuracy(predicted.genre.svm, testing.set$GENRE), \"\\n\")\n",
    "cat(\"With Normalize \", calc.accuracy(predicted.genre.svm.n, testing.set$GENRE), \"\\n\")"
   ]
  },
  {
   "cell_type": "markdown",
   "metadata": {},
   "source": [
    "### Random Forest "
   ]
  },
  {
   "cell_type": "code",
   "execution_count": 26,
   "metadata": {
    "collapsed": false
   },
   "outputs": [
    {
     "name": "stdout",
     "output_type": "stream",
     "text": [
      "\n",
      "Random Forest \n",
      "Without Normalize  0.9715387 \n",
      "With Normalize  0.9712422 \n"
     ]
    }
   ],
   "source": [
    "rf.model = randomForest(factor(GENRE) ~ .,data = training.set, cv.folds=5, trControl=control)\n",
    "rf.model.n = randomForest(factor(GENRE) ~ .,data = normalize.training.set, cv.folds=5, trControl=control)\n",
    "\n",
    "predicted.genre.rf = predict(rf.model, newdata = as.matrix(testing.data), type=\"response\", predict.all = FALSE)\n",
    "predicted.genre.rf.n = predict(rf.model.n, newdata = as.matrix(normalize.testing.data), type=\"response\", \n",
    "                               predict.all = FALSE)\n",
    "\n",
    "cat(\"\\nRandom Forest Accuracy\\n\")\n",
    "cat(\"Without Normalize \", calc.accuracy(predicted.genre.rf, testing.set$GENRE), \"\\n\")\n",
    "cat(\"With Normalize \", calc.accuracy(predicted.genre.rf.n, testing.set$GENRE), \"\\n\")"
   ]
  },
  {
   "cell_type": "markdown",
   "metadata": {},
   "source": [
    "### Ensemble Classifier "
   ]
  },
  {
   "cell_type": "code",
   "execution_count": 27,
   "metadata": {
    "collapsed": false
   },
   "outputs": [
    {
     "name": "stdout",
     "output_type": "stream",
     "text": [
      "Ensemble Classifier \n",
      "Without Normalize  0.973614 \n",
      "With Normalize  0.9739105 \n"
     ]
    }
   ],
   "source": [
    "# Used RANDOM FOREST, SVM & SOFTMAX \n",
    "ensemble.model = data.frame(predicted.genre.rf, predicted.genre.svm, predicted.genre.softmax) \n",
    "ensemble.model.n = data.frame(predicted.genre.rf.n, predicted.genre.svm.n, predicted.genre.softmax.n)\n",
    "\n",
    "predicted.ensemble = apply(ensemble.model,1,function(x) names(which.max(table(x))))\n",
    "predicted.ensemble.n = apply(ensemble.model.n,1,function(x) names(which.max(table(x))))\n",
    "\n",
    "cat(\"Ensemble Classifier Accuracy \\n\")\n",
    "cat(\"Without Normalize \", calc.accuracy(predicted.ensemble, testing.set$GENRE), \"\\n\")\n",
    "cat(\"With Normalize \", calc.accuracy(predicted.ensemble.n, testing.set$GENRE), \"\\n\")"
   ]
  },
  {
   "cell_type": "markdown",
   "metadata": {},
   "source": [
    "## Model Building for Main Testing Data"
   ]
  },
  {
   "cell_type": "markdown",
   "metadata": {},
   "source": [
    "## Without Normalized Data"
   ]
  },
  {
   "cell_type": "code",
   "execution_count": 28,
   "metadata": {
    "collapsed": false
   },
   "outputs": [
    {
     "name": "stdout",
     "output_type": "stream",
     "text": [
      "# weights:  193 (192 variable)\n",
      "initial  value 7794.440045 \n",
      "iter  10 value 4011.089795\n",
      "iter  20 value 2615.000693\n",
      "iter  30 value 1928.200753\n",
      "iter  40 value 1726.974736\n",
      "iter  50 value 1630.930578\n",
      "iter  60 value 1628.832170\n",
      "iter  70 value 1593.910829\n",
      "iter  80 value 1591.973378\n",
      "iter  90 value 1558.587544\n",
      "iter 100 value 1545.905154\n",
      "final  value 1545.905154 \n",
      "stopped after 100 iterations\n"
     ]
    }
   ],
   "source": [
    "nnet.fit.main = multinom(GENRE ~. , data = main.training.set, MaxNWts = 20000)\n",
    "svm.model.main = svm(factor(GENRE) ~ ., data = main.training.set, cv.folds = 10)\n",
    "rf.model.main = randomForest(factor(GENRE) ~ .,data = main.training.set, cv.folds = 10)\n",
    "\n",
    "predicted.genre.softmax.main = predict(nnet.fit.main, newdata = as.matrix(main.testing.set))\n",
    "predicted.genre.svm.main = predict(svm.model.main, newdata = as.matrix(main.testing.set))\n",
    "predicted.genre.rf.main = predict(rf.model.main, newdata = as.matrix(main.testing.set), \n",
    "                                  type=\"response\", predict.all = FALSE)\n",
    "\n",
    "ensemble.classifier = data.frame(predicted.genre.rf.main, predicted.genre.svm.main,\n",
    "                                 predicted.genre.softmax.main) # Used RANDOM FOREST, SVM & SOFTMAX \n",
    "ensemble.classifier.output = matrix(apply(ensemble.classifier, 1, function(x)\n",
    "                                    names(which.max(table(x)))), ncol = 1)\n",
    "colnames(ensemble.classifier.output) = c(\"GENRE\")"
   ]
  },
  {
   "cell_type": "markdown",
   "metadata": {},
   "source": [
    "## With Normalized Data"
   ]
  },
  {
   "cell_type": "code",
   "execution_count": 29,
   "metadata": {
    "collapsed": false
   },
   "outputs": [
    {
     "name": "stdout",
     "output_type": "stream",
     "text": [
      "# weights:  193 (192 variable)\n",
      "initial  value 7794.440045 \n",
      "iter  10 value 2966.913634\n",
      "iter  20 value 2572.383333\n",
      "iter  30 value 2185.995636\n",
      "iter  40 value 1830.931338\n",
      "iter  50 value 1629.587835\n",
      "iter  60 value 1448.323272\n",
      "iter  70 value 1359.387574\n",
      "iter  80 value 1337.027284\n",
      "iter  90 value 1328.416636\n",
      "iter 100 value 1322.371502\n",
      "final  value 1322.371502 \n",
      "stopped after 100 iterations\n"
     ]
    }
   ],
   "source": [
    "nnet.fit.main.n = multinom(GENRE ~. , data = normalize.main.training.set, MaxNWts = 20000)\n",
    "svm.model.main.n = svm(factor(GENRE) ~ ., data = normalize.main.training.set, cv.folds = 10)\n",
    "rf.model.main.n = randomForest(factor(GENRE) ~ .,data = normalize.main.training.set, cv.folds = 10)\n",
    "\n",
    "predicted.genre.softmax.main.n = predict(nnet.fit.main.n, newdata = as.matrix(normalize.main.testing.set))\n",
    "predicted.genre.svm.main.n = predict(svm.model.main.n, newdata = as.matrix(normalize.main.testing.set))\n",
    "predicted.genre.rf.main.n = predict(rf.model.main.n, newdata = as.matrix(normalize.main.testing.set), \n",
    "                                    type=\"response\", predict.all = FALSE)\n",
    "\n",
    "normalize.ensemble.classifier = data.frame(predicted.genre.rf.main.n, predicted.genre.svm.main.n, \n",
    "                                           predicted.genre.softmax.main.n) # Used RANDOM FOREST, SVM & SOFTMAX \n",
    "normalize.ensemble.classifier.output = matrix(apply(normalize.ensemble.classifier, 1, function(x) \n",
    "                                              names(which.max(table(x)))), ncol = 1)\n",
    "colnames(normalize.ensemble.classifier.output) = c(\"GENRE\")"
   ]
  },
  {
   "cell_type": "markdown",
   "metadata": {},
   "source": [
    "## Output results to CSV"
   ]
  },
  {
   "cell_type": "code",
   "execution_count": 33,
   "metadata": {
    "collapsed": true
   },
   "outputs": [],
   "source": [
    "write.table(ensemble.classifier.output, file = \"HW4_Music_Predictions.csv\", append = FALSE, quote = TRUE, sep = \" \",\n",
    "            eol = \"\\n\", na = \"NA\", dec = \".\", row.names = FALSE,\n",
    "            col.names = TRUE, qmethod = c(\"escape\", \"double\"),\n",
    "            fileEncoding = \"\")"
   ]
  },
  {
   "cell_type": "code",
   "execution_count": null,
   "metadata": {
    "collapsed": true
   },
   "outputs": [],
   "source": []
  }
 ],
 "metadata": {
  "kernelspec": {
   "display_name": "R",
   "language": "R",
   "name": "ir"
  },
  "language_info": {
   "codemirror_mode": "r",
   "file_extension": ".r",
   "mimetype": "text/x-r-source",
   "name": "R",
   "pygments_lexer": "r",
   "version": "3.2.2"
  }
 },
 "nbformat": 4,
 "nbformat_minor": 0
}
