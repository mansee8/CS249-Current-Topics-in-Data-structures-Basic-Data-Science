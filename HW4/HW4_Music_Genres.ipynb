{
 "cells": [
  {
   "cell_type": "markdown",
   "metadata": {},
   "source": [
    "# HW4 Problem:  Classifying Music Genres\n",
    "\n",
    "This problem asks you to classify music into genres that include:  Blues, Classical, Jazz, Metal, Pop, Rock.\n",
    "\n",
    "Column 192 in the dataset is the \"GENRE\" attribute used for classification.\n",
    "The 191 columns before this are numeric features of music clips.\n",
    "<blockquote>\n",
    "A database of 60 music performers has been prepared for the competition. The material is divided into six categories: classical music, jazz, blues, pop, rock and heavy metal. For each of the performers 15-20 music pieces have been collected. All music pieces are partitioned into 20 segments and parameterized. The descriptors used in parametrization also those formulated within the MPEG-7 standard, are only listed here since they have already been thoroughly reviewed and explained in many studies.  <br /><br />The feature vector consists of 191 parameters, the first 127 parameters are based on the MPEG-7 standard, the remaining ones are cepstral coefficients descriptors and time-related dedicated parameters:<br /><br />a) parameter 1: Temporal Centroid, <br />b) parameter 2: Spectral Centroid average value, <br />c) parameter 3: Spectral Centroid variance, <br />d) parameters 4-37: Audio Spectrum Envelope (ASE)  average values in 34 frequency bands<br />e) parameter 38: ASE average value (averaged for all frequency bands)<br />f) parameters 39-72: ASE variance values in 34 frequency bands<br />g) parameter 73: averaged ASE variance parameters<br />h) parameters 74,75: Audio Spectrum Centroid -- average and variance values<br />i) parameters 76,77: Audio Spectrum Spread -- average and variance values<br />j) parameters 78-101: Spectral Flatness Measure (SFM) average values for 24 frequency bands<br />k) parameter 102: SFM average value (averaged for all frequency bands)<br />l) parameters 103-126: Spectral Flatness Measure (SFM) variance values for 24 frequency bands<br />m) parameter 127: averaged SFM variance parameters<br />n) parameters 128-147: 20 first mel cepstral coefficients average values <br />o) parameters 148-167: the same as 128-147<br />p) parameters 168-191: dedicated parameters in time domain based of the analysis of the distribution of the envelope in relation to the rms value.<br />\n",
    "</blockquote>"
   ]
  },
  {
   "cell_type": "markdown",
   "metadata": {},
   "source": [
    "The results of a contest for building classifiers for this dataset are reported in:\n",
    "<blockquote>\n",
    "http://duch.mimuw.edu.pl/~mwojnars/papers/ismis-2011-contest.pdf\n",
    "</blockquote>\n",
    "This paper offers some ideas about models to consider."
   ]
  },
  {
   "cell_type": "markdown",
   "metadata": {
    "collapsed": true
   },
   "source": [
    "#  The Goal\n",
    "\n",
    "In this assignment you are to generate the genre predictions you can for a set of test data:\n",
    "<ul><li>\n",
    "Given the file <tt>MusicGenres.csv</tt>, develop a classifier that is as accurate as possible.\n",
    "</li><li>\n",
    "Use your classifier to predict genre classifications for each row of data in <tt>MusicFeatures.csv</tt>.\n",
    "</li><li>\n",
    "Put your predictions in a .csv file called  <tt>HW4_predictions.csv</tt> and upload it to CCLE.\n",
    "</li></ul>\n",
    "\n",
    "## Step 1: download your data, using your UID\n",
    "\n",
    "<blockquote>\n",
    "\n",
    "Download the music data at:\n",
    "<br/>\n",
    "http://datamining.cs.ucla.edu/cs249/hw4/music/___PUT_YOUR_UID_HERE___.zip\n",
    "\n",
    "<br/>\n",
    "<br/>\n",
    "<i>For example, if your UID is  123456789, download the file</i>\n",
    "    http://datamining.cs.ucla.edu/cs249/hw4/music/123456789.zip\n",
    "    \n",
    "</blockquote>\n",
    "    \n",
    "This zip file has two csv data files:  a training set and a test set.\n",
    "\n",
    "## Step 2: construct a model from <tt>training_set.csv</tt>\n",
    "\n",
    "Using the <tt>training_set.csv</tt> data, construct a classifier.\n",
    "\n",
    "<br/>\n",
    "<b>YOU CAN USE ANY ENVIRONMENT YOU LIKE TO BUILD A CLASSIFIER.</b>\n",
    "Please construct the most accurate models you can.\n",
    "\n",
    "<hr style=\"border-width:20px;\">\n",
    "\n",
    "## Step 3: generate predictions from <tt>test_set.csv</tt>\n",
    "    \n",
    "The rows of file <tt>test_set.csv</tt> have input features for a number of music clips.\n",
    "Using your classifer, produce class predictions for each of them.\n",
    "\n",
    "<br/>\n",
    "Put one predicted class name per line in a CSV file <tt>HW4_Music_Predictions.csv</tt>.\n",
    "This file should also have the header line \"<tt>GENRE</tt>\".\n",
    "\n",
    "<br/>\n",
    "<i>Your score on this problem will be the accuracy of these predictions.</i>\n",
    "<br/>\n",
    "\n",
    "<hr style=\"border-width:20px;\">\n",
    "\n",
    "## Step 4: upload <tt>HW4_Music_Predictions.csv</tt> and your notebook to CCLE\n",
    "\n",
    "Finally, go to CCLE and upload:\n",
    "<ul><li>\n",
    "your output CSV file <tt>HW4_Music_Predictions.csv</tt>\n",
    "</li><li>\n",
    "your notebook file <tt>HW4_Music_Genres.ipynb</tt>\n",
    "</li></ul>\n",
    "\n",
    "We are not planning to run any of the uploaded notebooks.\n",
    "However, your notebook should have the commands you used in developing your models ---\n",
    "in order to show your work.\n",
    "As announced, all assignment grading in this course will be automated,\n",
    "and the notebook is needed in order to check results of the grading program."
   ]
  },
  {
   "cell_type": "code",
   "execution_count": 13,
   "metadata": {
    "collapsed": true
   },
   "outputs": [],
   "source": [
    "################################################################################################\n",
    "## Load all the libraries\n",
    "################################################################################################\n",
    "\n",
    "library(data.table)\n",
    "library(caret)\n",
    "library(kernlab)\n",
    "library(glmnet)\n",
    "library(gbm)\n",
    "library(nnet)\n",
    "library(class)\n",
    "library(randomForest)\n",
    "library(e1071)"
   ]
  },
  {
   "cell_type": "code",
   "execution_count": 14,
   "metadata": {
    "collapsed": false
   },
   "outputs": [],
   "source": [
    "################################################################################################\n",
    "## Load all the features\n",
    "################################################################################################\n",
    "\n",
    "options(warn=-1)\n",
    "\n",
    "# STEP 1 : download your data, using 204567818\n",
    "# Reading in training and testing data\n",
    "main.training.set = fread(\"204567818/HW4_music_data/training_set.csv\", data.table = TRUE)\n",
    "main.testing.set = fread(\"204567818/HW4_music_data/test_set.csv\", data.table = TRUE)"
   ]
  },
  {
   "cell_type": "code",
   "execution_count": 15,
   "metadata": {
    "collapsed": false
   },
   "outputs": [
    {
     "name": "stdout",
     "output_type": "stream",
     "text": [
      "[1] 7872  192\n",
      "[1] 3373  192\n"
     ]
    }
   ],
   "source": [
    "################################################################################################\n",
    "## Split data\n",
    "################################################################################################\n",
    "\n",
    "main.training.set=main.training.set[sample(nrow(main.training.set)),]\n",
    "main.training.data = main.training.set\n",
    "main.training.data$GENRE = NULL\n",
    "\n",
    "split.idx = createDataPartition(main.training.set$GENRE, p = .7,\n",
    "                                list = TRUE,\n",
    "                                times = 1)\n",
    "\n",
    "training.set = main.training.set[split.idx$Resample1, ]\n",
    "testing.set = main.training.set[-split.idx$Resample1, ]\n",
    "\n",
    "print(dim(training.set))\n",
    "print(dim(testing.set))\n",
    "\n",
    "training.data = training.set\n",
    "training.data$GENRE = NULL\n",
    "\n",
    "testing.data= testing.set\n",
    "testing.data$GENRE = NULL"
   ]
  },
  {
   "cell_type": "code",
   "execution_count": null,
   "metadata": {
    "collapsed": true
   },
   "outputs": [],
   "source": [
    "################################################################################################\n",
    "## Normalize data\n",
    "################################################################################################\n",
    "\n",
    "procValues = preProcess(main.training.data, method = c(\"center\", \"scale\"))\n",
    "\n",
    "normalize.main.training.data = predict(procValues, main.training.data)\n",
    "normalize.main.testing.set = predict(procValues, main.testing.set)\n",
    "\n",
    "normalize.main.training.set = data.frame(cbind(normalize.main.training.data, main.training.set$GENRE))\n",
    "colnames(normalize.main.training.set) = c(colnames(normalize.main.training.data), \"GENRE\")\n",
    "\n",
    "\n",
    "procValues = preProcess(training.data, method = c(\"center\", \"scale\"))\n",
    "normalize.training.data = predict(procValues, training.data)\n",
    "normalize.testing.data = predict(procValues, testing.data)\n",
    "\n",
    "normalize.training.set = data.frame(cbind(normalize.training.data, training.set$GENRE))\n",
    "colnames(normalize.training.set) = c(colnames(normalize.training.data), \"GENRE\")\n",
    "normalize.testing.set =  data.frame(cbind(normalize.testing.data, testing.set$GENRE))\n",
    "colnames(normalize.testing.set) = c(colnames(normalize.testing.data), \"GENRE\")\n",
    "\n",
    "control = trainControl(method=\"repeatedcv\", number=10, repeats=3)"
   ]
  },
  {
   "cell_type": "code",
   "execution_count": 16,
   "metadata": {
    "collapsed": false
   },
   "outputs": [],
   "source": [
    "################################################################################################\n",
    "## Accuracy Function ## \n",
    "################################################################################################\n",
    "\n",
    "calc.accuracy = function(predicted, actual){\n",
    "  return(length(which(predicted == actual)) / length(actual))\n",
    "}"
   ]
  },
  {
   "cell_type": "code",
   "execution_count": 17,
   "metadata": {
    "collapsed": false
   },
   "outputs": [
    {
     "name": "stdout",
     "output_type": "stream",
     "text": [
      "# weights:  193 (192 variable)\n",
      "initial  value 5456.454605 \n",
      "iter  10 value 2623.976198\n",
      "iter  20 value 1408.331519\n",
      "iter  30 value 704.742557\n",
      "iter  40 value 478.476200\n",
      "iter  50 value 414.142411\n",
      "iter  60 value 367.135578\n",
      "iter  70 value 332.156219\n",
      "iter  80 value 317.311693\n",
      "iter  90 value 304.776714\n",
      "iter 100 value 298.001506\n",
      "final  value 298.001506 \n",
      "stopped after 100 iterations\n",
      "# weights:  193 (192 variable)\n",
      "initial  value 5456.454605 \n",
      "iter  10 value 698.738767\n",
      "iter  20 value 606.730573\n",
      "iter  30 value 512.802478\n",
      "iter  40 value 405.323934\n",
      "iter  50 value 369.796713\n",
      "iter  60 value 352.671366\n",
      "iter  70 value 339.724473\n",
      "iter  80 value 324.292829\n",
      "iter  90 value 278.601225\n",
      "iter 100 value 222.137110\n",
      "final  value 222.137110 \n",
      "stopped after 100 iterations\n",
      "Multinomial Logistic Regression Accuracy \n",
      "Without Normalize  0.9807293 \n",
      "With Normalize  0.9807293 \n"
     ]
    }
   ],
   "source": [
    "################################################################################################\n",
    "## MODEL BUILDING ## \n",
    "################################################################################################\n",
    "## Multinomial Logistic Regression\n",
    "################################################################################################\n",
    "nnet.fit = multinom(GENRE ~. , data = training.set, MaxNWts = 10000, trControl=control)\n",
    "nnet.fit.n = multinom(GENRE ~. , data = normalize.training.set, MaxNWts = 10000, trControl=control)\n",
    "\n",
    "predicted.genre.softmax = predict(nnet.fit, newdata = testing.set)\n",
    "predicted.genre.softmax.n = predict(nnet.fit.n, newdata = normalize.testing.set)\n",
    "\n",
    "cat(\"\\nMultinomial Logistic Regression Accuracy \\n\")\n",
    "cat(\"Without Normalize \", calc.accuracy(predicted.genre.softmax, testing.set$GENRE), \"\\n\")\n",
    "cat(\"With Normalize \", calc.accuracy(predicted.genre.softmax.n, testing.set$GENRE), \"\\n\")"
   ]
  },
  {
   "cell_type": "code",
   "execution_count": 18,
   "metadata": {
    "collapsed": false
   },
   "outputs": [
    {
     "name": "stdout",
     "output_type": "stream",
     "text": [
      "Lasso Logistic Regression Accuracy\n",
      "Without Normalize  0.9552327 \n",
      "With Normalize  0.9552327 \n"
     ]
    }
   ],
   "source": [
    "################################################################################################\n",
    "## Lasso Logistic Regression\n",
    "################################################################################################\n",
    "\n",
    "glmnet.fitted.model = glmnet(x = as.matrix(training.data),y = training.set$GENRE,\n",
    "                             family=\"multinomial\", lambda=0.04)\n",
    "glmnet.fitted.model.n = glmnet(x = as.matrix(normalize.training.data),y = training.set$GENRE,\n",
    "                               family=\"multinomial\", lambda=0.04)\n",
    "\n",
    "predicted.genre.lasso = predict(glmnet.fitted.model, newx=as.matrix(testing.data), type=\"class\")\n",
    "predicted.genre.lasso.n = predict(glmnet.fitted.model.n, newx=as.matrix(normalize.testing.data), type=\"class\")\n",
    "\n",
    "cat(\"Lasso Logistic Regression Accuracy\\n\")\n",
    "cat(\"Without Normalize \", calc.accuracy(predicted.genre.lasso, testing.set$GENRE), \"\\n\")\n",
    "cat(\"With Normalize \", calc.accuracy(predicted.genre.lasso.n, testing.set$GENRE), \"\\n\")"
   ]
  },
  {
   "cell_type": "code",
   "execution_count": 19,
   "metadata": {
    "collapsed": false
   },
   "outputs": [
    {
     "name": "stdout",
     "output_type": "stream",
     "text": [
      "Support Vector Machine Accuracy\n",
      "Without Normalize  0.9875482 \n",
      "With Normalize  0.9875482 \n"
     ]
    }
   ],
   "source": [
    "################################################################################################\n",
    "## Support Vector Machines\n",
    "################################################################################################\n",
    "\n",
    "svm.model = svm(factor(GENRE) ~ ., data = training.set, cv.folds=5, trControl=control)\n",
    "svm.model.n = svm(factor(GENRE) ~ ., data = normalize.training.set, cv.folds=5, trControl=control)\n",
    "\n",
    "predicted.genre.svm.n = predict(svm.model.n, normalize.testing.set)\n",
    "predicted.genre.svm = predict(svm.model, testing.data)\n",
    "\n",
    "cat(\"Support Vector Machine Accuracy\\n\")\n",
    "cat(\"Without Normalize \", calc.accuracy(predicted.genre.svm, testing.set$GENRE), \"\\n\")\n",
    "cat(\"With Normalize \", calc.accuracy(predicted.genre.svm.n, testing.set$GENRE), \"\\n\")"
   ]
  },
  {
   "cell_type": "code",
   "execution_count": 20,
   "metadata": {
    "collapsed": false
   },
   "outputs": [
    {
     "name": "stdout",
     "output_type": "stream",
     "text": [
      "Random Forest Accuracy\n",
      "Without Normalize  0.9857693 \n",
      "With Normalize  0.9851764 \n"
     ]
    }
   ],
   "source": [
    "################################################################################################\n",
    "## Random Forest\n",
    "################################################################################################\n",
    "\n",
    "rf.model = randomForest(factor(GENRE) ~ .,data = training.set, cv.folds=5, trControl=control)\n",
    "rf.model.n = randomForest(factor(GENRE) ~ .,data = normalize.training.set, cv.folds=5, trControl=control)\n",
    "\n",
    "predicted.genre.rf = predict(rf.model, newdata = as.matrix(testing.data), type=\"response\", predict.all = FALSE)\n",
    "predicted.genre.rf.n = predict(rf.model.n, newdata = as.matrix(normalize.testing.data), type=\"response\", predict.all = FALSE)\n",
    "\n",
    "cat(\"Random Forest Accuracy\\n\")\n",
    "cat(\"Without Normalize \", calc.accuracy(predicted.genre.rf, testing.set$GENRE), \"\\n\")\n",
    "cat(\"With Normalize \", calc.accuracy(predicted.genre.rf.n, testing.set$GENRE), \"\\n\")"
   ]
  },
  {
   "cell_type": "code",
   "execution_count": 21,
   "metadata": {
    "collapsed": false
   },
   "outputs": [
    {
     "name": "stdout",
     "output_type": "stream",
     "text": [
      "Ensemble Classifier Accuracy \n",
      "Without Normalize  0.979247 \n",
      "With Normalize  0.9801364 \n"
     ]
    }
   ],
   "source": [
    "################################################################################################\n",
    "## Emsemble Classifier\n",
    "################################################################################################\n",
    "# Used RANDOM FOREST, SVM & SOFTMAX & LASSO\n",
    "testing.output = data.frame(predicted.genre.rf, predicted.genre.svm, predicted.genre.softmax,predicted.genre.lasso)   \n",
    "testing.output.n = data.frame(predicted.genre.rf.n, predicted.genre.svm.n, predicted.genre.softmax.n,predicted.genre.lasso.n)\n",
    "\n",
    "to = apply(testing.output,1,function(x) names(which.max(table(x))))\n",
    "vo = apply(testing.output.n,1,function(x) names(which.max(table(x))))\n",
    "\n",
    "cat(\"Ensemble Classifier Accuracy \\n\")\n",
    "cat(\"Without Normalize \", calc.accuracy(to, testing.set$GENRE), \"\\n\")\n",
    "cat(\"With Normalize \", calc.accuracy(vo, testing.set$GENRE), \"\\n\")"
   ]
  },
  {
   "cell_type": "code",
   "execution_count": 22,
   "metadata": {
    "collapsed": false
   },
   "outputs": [
    {
     "name": "stdout",
     "output_type": "stream",
     "text": [
      "# weights:  193 (192 variable)\n",
      "initial  value 7794.440045 \n",
      "iter  10 value 1268.623991\n",
      "iter  20 value 987.832283\n",
      "iter  30 value 778.805429\n",
      "iter  40 value 548.149157\n",
      "iter  50 value 464.447413\n",
      "iter  60 value 430.333977\n",
      "iter  70 value 417.124245\n",
      "iter  80 value 402.555677\n",
      "iter  90 value 393.608463\n",
      "iter 100 value 376.257190\n",
      "final  value 376.257190 \n",
      "stopped after 100 iterations\n"
     ]
    }
   ],
   "source": [
    "################################################################################################\n",
    "## Main Model Building \n",
    "################################################################################################\n",
    "\n",
    "# NORMALIZED DATA\n",
    "nnet.fit.main = multinom(GENRE ~. , data = normalize.main.training.set, MaxNWts = 20000)\n",
    "svm.model.main = svm(factor(GENRE) ~ ., data = normalize.main.training.set, cv.folds = 10)\n",
    "rf.model.main = randomForest(factor(GENRE) ~ .,data = normalize.main.training.set, cv.folds = 10)\n",
    "glmnet.fitted.main.n = glmnet(x = as.matrix(normalize.main.training.data),y = main.training.set$GENRE,\n",
    "                               family=\"multinomial\", lambda=0.04)\n",
    "\n",
    "predicted.genre.softmax.main = predict(nnet.fit.main, newdata = as.matrix(normalize.main.testing.set))\n",
    "predicted.genre.svm.main = predict(svm.model.main, newdata = as.matrix(normalize.main.testing.set))\n",
    "predicted.genre.rf.main = predict(rf.model.main, newdata = as.matrix(normalize.main.testing.set), type=\"response\", predict.all = FALSE)\n",
    "predicted.genre.lasso.n = predict(glmnet.fitted.model.n, newx=as.matrix(normalize.main.testing.set), type=\"class\")\n",
    "\n",
    "normalize.ensemble.classifier = data.frame(predicted.genre.rf.main, predicted.genre.svm.main, predicted.genre.softmax.main\n",
    "                                           ,predicted.genre.lasso.n) # Used RANDOM FOREST, SVM & SOFTMAX & Lasso\n",
    "normalize.ensemble.classifier.output = matrix(apply(normalize.ensemble.classifier, 1, function(x) names(which.max(table(x)))), ncol = 1)\n",
    "colnames(normalize.ensemble.classifier.output) = c(\"GENRE\")"
   ]
  },
  {
   "cell_type": "code",
   "execution_count": 24,
   "metadata": {
    "collapsed": true
   },
   "outputs": [],
   "source": [
    "# Write output into CSV File\n",
    "write.table(normalize.ensemble.classifier.output, file = \"HW4_Music_Predictions.csv\", append = FALSE, quote = TRUE, sep = \" \",\n",
    "            eol = \"\\n\", na = \"NA\", dec = \".\", row.names = FALSE,\n",
    "            col.names = TRUE, qmethod = c(\"escape\", \"double\"),\n",
    "            fileEncoding = \"\")"
   ]
  },
  {
   "cell_type": "code",
   "execution_count": null,
   "metadata": {
    "collapsed": true
   },
   "outputs": [],
   "source": []
  }
 ],
 "metadata": {
  "kernelspec": {
   "display_name": "R",
   "language": "R",
   "name": "ir"
  },
  "language_info": {
   "codemirror_mode": "r",
   "file_extension": ".r",
   "mimetype": "text/x-r-source",
   "name": "R",
   "pygments_lexer": "r",
   "version": "3.1.3"
  }
 },
 "nbformat": 4,
 "nbformat_minor": 0
}
